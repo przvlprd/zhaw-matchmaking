{
 "cells": [
  {
   "cell_type": "markdown",
   "id": "f9d15258-ee86-49ff-ab24-a4f81889bcbb",
   "metadata": {},
   "source": [
    "# 3. LLM Pipeline\n",
    "- based on [LangChain QA](https://python.langchain.com/docs/use_cases/question_answering/) and [LangChain RAG over in-memory documents](https://python.langchain.com/docs/use_cases/question_answering/in_memory_question_answering)\n",
    "- **make sure to place your OpenAI API key in `.env`**\n",
    "\n",
    "### ToDos\n",
    "- use LLM to generate answer to user\n",
    "- retrieve all (relevant) chunks from all retrieved sources\n",
    "    - check for each chunk whether it is relevant for the user query\n",
    "    - Chain --> let LLM summarize/decide for relevance\n",
    "    - use [refine](https://python.langchain.com/docs/modules/chains/document/refine) or [map reduce](https://python.langchain.com/docs/modules/chains/document/map_reduce)\n",
    "- rewrite user query / get additional queries for more relevant retrieval\n",
    "    - see [MultiQueryRetriever](https://python.langchain.com/docs/modules/data_connection/retrievers/MultiQueryRetriever)\n"
   ]
  },
  {
   "cell_type": "markdown",
   "id": "0f929afc-2e9d-40fb-ab8f-52d377b33507",
   "metadata": {},
   "source": [
    "## Prerequisites"
   ]
  },
  {
   "cell_type": "code",
   "execution_count": 1,
   "id": "79607686-dc61-4a4f-8878-c6baa16b2831",
   "metadata": {},
   "outputs": [],
   "source": [
    "import os\n",
    "import openai\n",
    "\n",
    "from dotenv import load_dotenv, find_dotenv\n",
    "_ = load_dotenv(find_dotenv())\n",
    "\n",
    "openai.api_key = os.environ['OPENAI_API_KEY']"
   ]
  },
  {
   "cell_type": "code",
   "execution_count": 2,
   "id": "a1490344-1772-43d2-9e2c-cbb195e0c8b7",
   "metadata": {},
   "outputs": [],
   "source": [
    "from langchain.embeddings.openai import OpenAIEmbeddings\n",
    "from langchain.vectorstores import Chroma\n",
    "\n",
    "embedding_function = OpenAIEmbeddings(show_progress_bar=True)"
   ]
  },
  {
   "cell_type": "markdown",
   "id": "66374868-adee-4330-96a7-1758c11a9f71",
   "metadata": {},
   "source": [
    "### Load database from disk"
   ]
  },
  {
   "cell_type": "code",
   "execution_count": 3,
   "id": "3bef1459-2c2b-4f70-a8b7-2cff4142b923",
   "metadata": {},
   "outputs": [],
   "source": [
    "vectordb = Chroma(persist_directory=\"./chroma_db\", embedding_function=embedding_function)"
   ]
  },
  {
   "cell_type": "code",
   "execution_count": 4,
   "id": "40352f54-d687-497e-90f9-e48dc8565ca1",
   "metadata": {},
   "outputs": [
    {
     "name": "stdout",
     "output_type": "stream",
     "text": [
      "57834\n"
     ]
    }
   ],
   "source": [
    "# Entries in database is equivalent to number of chunks created previously\n",
    "print(vectordb._collection.count())"
   ]
  },
  {
   "cell_type": "markdown",
   "id": "15e0b093-5615-4622-a8e6-f24c9bc0df70",
   "metadata": {},
   "source": [
    "## Query the database"
   ]
  },
  {
   "cell_type": "code",
   "execution_count": 5,
   "id": "90c5986a-8ad4-4f6a-8bea-c51e3b8e0321",
   "metadata": {},
   "outputs": [],
   "source": [
    "query = \"wer setzt sich mit augmented reality auseinander?\""
   ]
  },
  {
   "cell_type": "markdown",
   "id": "fb0d742e-3d65-484a-b971-1e40de13580d",
   "metadata": {},
   "source": [
    "### Using `semantic similarity search`\n",
    "- we can specify `k` - the number of documents (here: chunks) retrieved"
   ]
  },
  {
   "cell_type": "code",
   "execution_count": 6,
   "id": "53ce2db5-cb26-49a5-a0f5-9f663e71328a",
   "metadata": {},
   "outputs": [
    {
     "data": {
      "application/vnd.jupyter.widget-view+json": {
       "model_id": "99b740939b6c4b8fa8f483dcec57c6a5",
       "version_major": 2,
       "version_minor": 0
      },
      "text/plain": [
       "  0%|          | 0/1 [00:00<?, ?it/s]"
      ]
     },
     "metadata": {},
     "output_type": "display_data"
    }
   ],
   "source": [
    "results_sss = vectordb.similarity_search(query, k=4)"
   ]
  },
  {
   "cell_type": "code",
   "execution_count": 7,
   "id": "dc3740fc-b3e6-4de5-8fd3-f834ca2ac701",
   "metadata": {},
   "outputs": [
    {
     "name": "stdout",
     "output_type": "stream",
     "text": [
      "Augmented Reality, Mixed Reality, Virtual Reality, Information Visualization, Digital Health, Mobile Apps, Audio & Music Processing. Aus- und Fortbildung Dr. oec. publ. UniZHResearch Assistant at Multimedia Lab / Institut für Informatik / Universität Zürich Beruflicher Werdegang Gründer und ehem. Geschäftsführer der Perspectix AG Mitglied in Netzwerken IEEE ACM Schweizerische Gesellschaft für Medizinische Informatik (SGMI) Projekte Mixed Reality im Anlagenbau / ProjektleiterIn / Projekt laufend\n"
     ]
    }
   ],
   "source": [
    "# Example of first result retrieved\n",
    "print(results_sss[0].page_content)"
   ]
  },
  {
   "cell_type": "code",
   "execution_count": 8,
   "id": "4e35ba1e-b0ff-45df-a86b-622b4932510b",
   "metadata": {},
   "outputs": [
    {
     "name": "stdout",
     "output_type": "stream",
     "text": [
      "acke\n"
     ]
    }
   ],
   "source": [
    "print(results_sss[0].metadata[\"source\"])"
   ]
  },
  {
   "cell_type": "code",
   "execution_count": 9,
   "id": "98e7c786-fe29-4959-8080-d7d5dd07f6de",
   "metadata": {},
   "outputs": [
    {
     "name": "stdout",
     "output_type": "stream",
     "text": [
      "3\n",
      "{'webw', 'acke', 'weei'}\n"
     ]
    }
   ],
   "source": [
    "# Number of different sources retrieved\n",
    "sources = set()\n",
    "for result in results_sss:\n",
    "    sources.add(result.metadata[\"source\"])\n",
    "\n",
    "print(len(sources))\n",
    "print(sources)"
   ]
  },
  {
   "cell_type": "code",
   "execution_count": 10,
   "id": "ce26bc7b-ac4c-4f19-b4a9-0ccceb17f934",
   "metadata": {},
   "outputs": [
    {
     "data": {
      "text/plain": [
       "4"
      ]
     },
     "execution_count": 10,
     "metadata": {},
     "output_type": "execute_result"
    }
   ],
   "source": [
    "len(results_sss)"
   ]
  },
  {
   "cell_type": "markdown",
   "id": "86c47488-b515-470b-a8ef-dd26b639d348",
   "metadata": {},
   "source": [
    "### Using `maximum marginal relevance`\n",
    "- strives to achieve both relevance to the query and diversity among the results"
   ]
  },
  {
   "cell_type": "code",
   "execution_count": 11,
   "id": "13200f3b-1c2f-4c5f-b9e3-5858e8a14347",
   "metadata": {},
   "outputs": [
    {
     "data": {
      "application/vnd.jupyter.widget-view+json": {
       "model_id": "7977e0f543aa4770bc7890a9b8d07ef4",
       "version_major": 2,
       "version_minor": 0
      },
      "text/plain": [
       "  0%|          | 0/1 [00:00<?, ?it/s]"
      ]
     },
     "metadata": {},
     "output_type": "display_data"
    }
   ],
   "source": [
    "results_mmr = vectordb.max_marginal_relevance_search(query, k=4)"
   ]
  },
  {
   "cell_type": "code",
   "execution_count": 12,
   "id": "79c4e6dc-aa46-4752-b62b-f4129dc0a049",
   "metadata": {},
   "outputs": [
    {
     "name": "stdout",
     "output_type": "stream",
     "text": [
      "4\n",
      "{'pach', 'acke', 'shmt', 'mede'}\n"
     ]
    }
   ],
   "source": [
    "# Number of different sources retrieved\n",
    "sources_mmr = set()\n",
    "for result in results_mmr:\n",
    "    sources_mmr.add(result.metadata[\"source\"])\n",
    "\n",
    "print(len(sources_mmr))\n",
    "print(sources_mmr)"
   ]
  },
  {
   "cell_type": "code",
   "execution_count": 13,
   "id": "a1e35739-ad66-458e-93de-8e6b594b5d7d",
   "metadata": {},
   "outputs": [
    {
     "data": {
      "text/plain": [
       "Document(page_content='von Windenergieanlagen mit Augmented Reality / Teammitglied / Projekt abgeschlossen Wasserregime Sur Chaunt Blais, St. Moritz / Teammitglied / Projekt abgeschlossen Beschneiung Minschuns - Umweltverträglichkeitsbericht (UVB) / Teammitglied / Projekt abgeschlossen Umweltverträglichkeitsbericht (UVB) Umfahrungsstrasse Sta. Maria, Kt. GR / Teammitglied / Projekt abgeschlossen Publikationen Beiträge in wissenschaftlicher Zeitschrift, peer-reviewed Bergauer, Miro; Dembicz, Iwona; Boch, Steffen;', metadata={'source': 'pach'})"
      ]
     },
     "execution_count": 13,
     "metadata": {},
     "output_type": "execute_result"
    }
   ],
   "source": [
    "results_mmr[2]"
   ]
  },
  {
   "cell_type": "markdown",
   "id": "58f84367-7ccc-43a0-ad33-87472b3d626a",
   "metadata": {
    "jp-MarkdownHeadingCollapsed": true
   },
   "source": [
    "## Approach 1: Building the context for our LLM prompt based on chunks\n",
    "- we can retrieve all chunks for a retrieved source (`\"shorthandSymbol\"`) and use these as inputs to `refine` our context / prompt\n",
    "- **TBD**"
   ]
  },
  {
   "cell_type": "code",
   "execution_count": 28,
   "id": "153936ae-7bf9-456a-8ff8-f52312429257",
   "metadata": {},
   "outputs": [],
   "source": [
    "complete_query = vectordb.get(where={\"source\": results_mmr[0].metadata[\"source\"]})\n",
    "all_chunks_from_single_source = complete_query[\"documents\"]"
   ]
  },
  {
   "cell_type": "code",
   "execution_count": 29,
   "id": "489585fe-bd63-49fc-b27f-418b93d8c965",
   "metadata": {},
   "outputs": [
    {
     "name": "stdout",
     "output_type": "stream",
     "text": [
      "63\n",
      "Prof. Dr. Irina Nast Prof. Dr. Irina Nast ZHAW Gesundheit Institut für Physiotherapie Katharina-Sulzer-Platz 9 8400 Winterthur +41 (0) 58 934 65 16 irina.nast@zhaw.ch Persönliches Profil Tätigkeit an der ZHAW Dozentin und wissenschaftliche Mitarbeiterinwww.zhaw.ch/de/gesundheit/institute-fachstelle/institut-fuer-physiotherapie.html Lehrtätigkeit in der Weiterbildung Reflektierte Praxis - Wissenschaft verstehen WBK Evidence-based Health Care: Methodische Grundlagen MAS Managed Health Care MAS\n"
     ]
    }
   ],
   "source": [
    "print(len(all_chunks_from_single_source))\n",
    "print(all_chunks_from_single_source[0])"
   ]
  },
  {
   "cell_type": "markdown",
   "id": "141fb6d7-1020-4a41-8a58-81bb640b564c",
   "metadata": {},
   "source": [
    "## Approach 2: Adding all user profiles to a custom chatbot with `embedchain`\n",
    "- see in *\"4. Chat with a profile.ipynb\"* on more background"
   ]
  },
  {
   "cell_type": "code",
   "execution_count": 14,
   "id": "daaca404-497d-4bee-ac2b-2894d32be2f6",
   "metadata": {},
   "outputs": [],
   "source": [
    "from embedchain import App\n",
    "zhaw_user_bot = App()"
   ]
  },
  {
   "cell_type": "markdown",
   "id": "e4329266-9207-4bd8-8acc-8e783517378e",
   "metadata": {},
   "source": [
    "#### Add the source profile to the chatbot (based on `\"shorthandSymbol\"`)"
   ]
  },
  {
   "cell_type": "code",
   "execution_count": 15,
   "id": "843f0aba-8d02-4895-aa60-37392b363b10",
   "metadata": {},
   "outputs": [
    {
     "name": "stdout",
     "output_type": "stream",
     "text": [
      "Inserting batches from 0 to 20 in chromadb\n",
      "Successfully saved https://www.zhaw.ch/de/ueber-uns/person/pach (DataType.WEB_PAGE). New chunks count: 20\n",
      "Inserting batches from 0 to 16 in chromadb\n",
      "Successfully saved https://www.zhaw.ch/de/ueber-uns/person/acke (DataType.WEB_PAGE). New chunks count: 16\n",
      "Inserting batches from 0 to 9 in chromadb\n",
      "Successfully saved https://www.zhaw.ch/de/ueber-uns/person/shmt (DataType.WEB_PAGE). New chunks count: 9\n",
      "Inserting batches from 0 to 47 in chromadb\n",
      "Successfully saved https://www.zhaw.ch/de/ueber-uns/person/mede (DataType.WEB_PAGE). New chunks count: 47\n"
     ]
    }
   ],
   "source": [
    "for source in sources_mmr:\n",
    "    zhaw_user_bot.add(f\"https://www.zhaw.ch/de/ueber-uns/person/{source}\")"
   ]
  },
  {
   "cell_type": "markdown",
   "id": "c3fa6257-1968-43d5-89a8-e504e3f925b2",
   "metadata": {},
   "source": [
    "#### Query the chatbot"
   ]
  },
  {
   "cell_type": "code",
   "execution_count": 23,
   "id": "8d9fd210-59b0-4685-b760-1d106ebeef07",
   "metadata": {},
   "outputs": [
    {
     "data": {
      "text/plain": [
       "'Mr. Ackermann has worked on Human-Centered Computing at ZHAW Zürcher Hochschule für Angewandte Wissenschaften.'"
      ]
     },
     "execution_count": 23,
     "metadata": {},
     "output_type": "execute_result"
    }
   ],
   "source": [
    "zhaw_user_bot.query(\"What did Mr. Ackermann work on so far?\")"
   ]
  },
  {
   "cell_type": "markdown",
   "id": "a51b4cba-3b23-4a51-b384-36bf6b72aac4",
   "metadata": {},
   "source": [
    "**Caveats**\n",
    "\n",
    "- approach probably bloated and unnecessary, but proof of concept\n",
    "- prompt needs to be changed to German\n",
    "- retrieval does not work as intended\n",
    "- no follow-up questions / no memory used**"
   ]
  }
 ],
 "metadata": {
  "kernelspec": {
   "display_name": "Python 3 (ipykernel)",
   "language": "python",
   "name": "python3"
  },
  "language_info": {
   "codemirror_mode": {
    "name": "ipython",
    "version": 3
   },
   "file_extension": ".py",
   "mimetype": "text/x-python",
   "name": "python",
   "nbconvert_exporter": "python",
   "pygments_lexer": "ipython3",
   "version": "3.11.4"
  }
 },
 "nbformat": 4,
 "nbformat_minor": 5
}
