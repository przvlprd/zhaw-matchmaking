{
 "cells": [
  {
   "cell_type": "markdown",
   "id": "314c0840-7b05-4484-bbb9-a8f19f820899",
   "metadata": {},
   "source": [
    "# Analyze a single long document\n",
    "- [Source](https://python.langchain.com/docs/use_cases/question_answering/analyze_document)\n",
    "- use vectprdb to retrieve relevant persons based on similarity search\n",
    "- use their profile page as input\n",
    "- use BeautifulSoup to retrieve profile data"
   ]
  },
  {
   "cell_type": "markdown",
   "id": "a2fa254c-52a7-4e8e-9651-72ef698ca3af",
   "metadata": {},
   "source": [
    "**Helper decorator timer**"
   ]
  },
  {
   "cell_type": "code",
   "execution_count": 33,
   "id": "e6246dac-9729-4789-b84f-b1fabeb98015",
   "metadata": {},
   "outputs": [],
   "source": [
    "import time\n",
    "\n",
    "def timer(func):\n",
    "    def wrapper(*args, **kwargs):\n",
    "        start_time = time.time()\n",
    "        result = func(*args, **kwargs)\n",
    "        end_time = time.time()\n",
    "        elapsed_time = end_time - start_time\n",
    "        print(f\"{func.__name__} took {elapsed_time:.5f} seconds to execute.\")\n",
    "        return result\n",
    "    return wrapper"
   ]
  },
  {
   "cell_type": "markdown",
   "id": "aa5b777b-ff6f-4350-9cbb-e554a5db7155",
   "metadata": {},
   "source": [
    "**Get the profile data**"
   ]
  },
  {
   "cell_type": "code",
   "execution_count": 9,
   "id": "2950b711-2ccb-49af-946b-4edeebb33155",
   "metadata": {},
   "outputs": [],
   "source": [
    "import re\n",
    "import requests\n",
    "from bs4 import BeautifulSoup"
   ]
  },
  {
   "cell_type": "code",
   "execution_count": 22,
   "id": "6af8fa8f-39ea-4a09-9fef-acf50ae0cfb9",
   "metadata": {},
   "outputs": [],
   "source": [
    "url = \"https://www.zhaw.ch/de/ueber-uns/person/acke\""
   ]
  },
  {
   "cell_type": "code",
   "execution_count": 23,
   "id": "5fa7694c-7669-4d2a-b84d-3bcfc9fad9ed",
   "metadata": {},
   "outputs": [],
   "source": [
    "response = requests.get(url)\n",
    "soup = BeautifulSoup(response.text, 'html.parser')\n",
    "profile = soup.find('div', class_='zhaw-person')\n",
    "raw_profile = profile.get_text()"
   ]
  },
  {
   "cell_type": "code",
   "execution_count": 24,
   "id": "daeaa104-89e2-4994-be75-3945f10f7ab4",
   "metadata": {},
   "outputs": [],
   "source": [
    "def preprocess_profile(raw_data: str):\n",
    "    # Remove all obsolete whitespace\n",
    "    cleaned_str = re.sub(r'\\s+', ' ', raw_data)\n",
    "\n",
    "    # Remove the final \"Zurück\" in every profile\n",
    "    cleaned_str = cleaned_str.replace('Zurück', '')\n",
    "\n",
    "    # Insert whitespace between numbers and letters (when they got lost from the original html)\n",
    "    pattern = r'([a-zA-Z])(\\d)'\n",
    "    cleaned_str = re.sub(pattern, r'\\1 \\2', cleaned_str)\n",
    "\n",
    "    return cleaned_str"
   ]
  },
  {
   "cell_type": "code",
   "execution_count": 25,
   "id": "3dc1a1c5-c750-46dd-b107-e4ef47d1faf2",
   "metadata": {},
   "outputs": [],
   "source": [
    "cleaned_profile = preprocess_profile(raw_profile)"
   ]
  },
  {
   "cell_type": "markdown",
   "id": "4ac9f593-6821-41b2-b706-7456cfa5d206",
   "metadata": {},
   "source": [
    "**The AnalyzeDocumentChain takes in a single document, splits it up, and then runs it through a CombineDocumentsChain.**"
   ]
  },
  {
   "cell_type": "code",
   "execution_count": 14,
   "id": "bbe59d27-d2fc-4560-bce6-a1836f47ff20",
   "metadata": {},
   "outputs": [],
   "source": [
    "import os\n",
    "import openai\n",
    "\n",
    "from dotenv import load_dotenv, find_dotenv\n",
    "_ = load_dotenv(find_dotenv())\n",
    "\n",
    "openai.api_key = os.environ['OPENAI_API_KEY']"
   ]
  },
  {
   "cell_type": "code",
   "execution_count": 15,
   "id": "6d807a6f-9286-47bb-8d32-5da776c3a6c7",
   "metadata": {},
   "outputs": [],
   "source": [
    "from langchain.llms import OpenAI\n",
    "from langchain.chains import AnalyzeDocumentChain\n",
    "\n",
    "llm = OpenAI(temperature=0)"
   ]
  },
  {
   "cell_type": "code",
   "execution_count": 16,
   "id": "6132ea99-4b25-41e3-826c-a93774c02291",
   "metadata": {},
   "outputs": [],
   "source": [
    "from langchain.chains.question_answering import load_qa_chain"
   ]
  },
  {
   "cell_type": "code",
   "execution_count": 46,
   "id": "e926db2d-5262-4b0c-bc4e-2f490bb17b23",
   "metadata": {},
   "outputs": [],
   "source": [
    "# Map reduce\n",
    "qa_chain = load_qa_chain(llm, chain_type=\"map_reduce\")  # took 8.94116 seconds to execute\n",
    "\n",
    "# Refine\n",
    "# qa_chain = load_qa_chain(llm, chain_type=\"refine\")  # took 10.97927 seconds to execute."
   ]
  },
  {
   "cell_type": "code",
   "execution_count": 47,
   "id": "9bbcddf0-eb99-43b3-8c3a-8ca91e392c43",
   "metadata": {},
   "outputs": [],
   "source": [
    "qa_document_chain = AnalyzeDocumentChain(combine_docs_chain=qa_chain)"
   ]
  },
  {
   "cell_type": "code",
   "execution_count": 52,
   "id": "58146083-f660-4ef0-8ae5-4e380791d929",
   "metadata": {},
   "outputs": [],
   "source": [
    "query = \"\"\"Would this person be a fitting partner for a collaboration \\\n",
    "on augmented reality and why? please elaborate and use some citations \\\n",
    "from the original document.\"\"\""
   ]
  },
  {
   "cell_type": "code",
   "execution_count": 53,
   "id": "4903f76b-b442-454e-a062-023b09d48d37",
   "metadata": {},
   "outputs": [],
   "source": [
    "@timer\n",
    "def run_qa_document_chain(input_document, question):\n",
    "    return qa_document_chain.run(input_document=input_document, question=question)"
   ]
  },
  {
   "cell_type": "code",
   "execution_count": 54,
   "id": "e4ed2b4d-b298-4d95-a50f-b162eed98dd5",
   "metadata": {},
   "outputs": [
    {
     "name": "stdout",
     "output_type": "stream",
     "text": [
      "run_qa_document_chain took 13.02925 seconds to execute.\n"
     ]
    },
    {
     "data": {
      "text/plain": [
       "' Dr. Philipp Ackermann is a fitting partner for a collaboration on augmented reality due to his expertise in the field. He is the Deputy Head of the Human-Centered Computing research focus at the ZHAW School of Engineering, and is a lecturer in Informatics in the same focus. He has worked on multiple projects related to augmented reality, such as \"Mixed Reality im Anlagenbau\" and \"ARchi VR: Real-Time Collaboration in Augmented Spaces\" (Moreno & Ackermann, 2023). He has also published multiple peer-reviewed papers on the topic, such as \"AR Patterns: Event-Driven Design Patterns in Creating Augmented Reality Experiences\" (Ackermann, 2023). Additionally, his 2015 paper, \"Redesign of an Introductory Computer Graphics Course,\" which was published in the Eurographics Education Papers, demonstrates his expertise in computer graphics, which is a key component of augmented reality. His other publications, such as \"PLM-integrated Configurators for Machine and Plant Construction\" and \"Product Knowledge Management,\" further demonstrate his knowledge and experience in the field.'"
      ]
     },
     "execution_count": 54,
     "metadata": {},
     "output_type": "execute_result"
    }
   ],
   "source": [
    "run_qa_document_chain(cleaned_profile, query)"
   ]
  },
  {
   "cell_type": "markdown",
   "id": "7d7ec22e-1f22-4a19-b3e3-1642dc40c953",
   "metadata": {},
   "source": [
    "## ToDo\n",
    "\n",
    "- try German\n",
    "- complete pipeline from retrieval to answer\n",
    "- script / OOP\n",
    "- unit tests"
   ]
  }
 ],
 "metadata": {
  "kernelspec": {
   "display_name": "Python 3 (ipykernel)",
   "language": "python",
   "name": "python3"
  },
  "language_info": {
   "codemirror_mode": {
    "name": "ipython",
    "version": 3
   },
   "file_extension": ".py",
   "mimetype": "text/x-python",
   "name": "python",
   "nbconvert_exporter": "python",
   "pygments_lexer": "ipython3",
   "version": "3.11.4"
  }
 },
 "nbformat": 4,
 "nbformat_minor": 5
}
