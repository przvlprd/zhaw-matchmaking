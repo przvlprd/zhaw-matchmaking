{
 "cells": [
  {
   "cell_type": "markdown",
   "id": "c3ec5f54-4d95-4489-909d-af5792fdb5ae",
   "metadata": {},
   "source": [
    "# 4. Chat with a profile\n",
    "- after a user profile is retrieved, we can use `embedchain` to create a simple chatbot which uses the profile page as context to answer user queries\n",
    "- **make sure to place your OpenAI API key in `.env`**"
   ]
  },
  {
   "cell_type": "markdown",
   "id": "587160e7-b483-4f99-84ef-224c6d13f6d6",
   "metadata": {},
   "source": [
    "## Prerequisites"
   ]
  },
  {
   "cell_type": "code",
   "execution_count": null,
   "id": "310c47dc-fb5a-452c-970b-0f9144951c68",
   "metadata": {},
   "outputs": [],
   "source": [
    "import os\n",
    "import openai\n",
    "\n",
    "from dotenv import load_dotenv, find_dotenv\n",
    "_ = load_dotenv(find_dotenv())\n",
    "\n",
    "openai.api_key = os.environ['OPENAI_API_KEY']"
   ]
  },
  {
   "cell_type": "code",
   "execution_count": null,
   "id": "92407b9b-e099-4f5d-bec6-c94dd1bc615c",
   "metadata": {},
   "outputs": [],
   "source": [
    "from embedchain import App"
   ]
  },
  {
   "cell_type": "markdown",
   "id": "224c2813-1a6f-4f1e-a89a-1af0bdefa772",
   "metadata": {},
   "source": [
    "## Prototype example"
   ]
  },
  {
   "cell_type": "markdown",
   "id": "e2cecc13-8e5c-41ef-ba19-95b29c17c5e1",
   "metadata": {},
   "source": [
    "**Create the chatbot app and add data sources using embedchain's `.add()` method**"
   ]
  },
  {
   "cell_type": "code",
   "execution_count": null,
   "id": "2c03339a-373b-4d2b-8beb-d105a9c6070b",
   "metadata": {},
   "outputs": [],
   "source": [
    "zhaw_user_bot = App()\n",
    "zhaw_user_bot.add(\"https://www.zhaw.ch/de/ueber-uns/person/grss\")"
   ]
  },
  {
   "cell_type": "markdown",
   "id": "8cbed1ca-aabc-40f4-9f14-1456a669b699",
   "metadata": {},
   "source": [
    "**Your bot is ready now. Ask your bot any questions using `.query()` method**"
   ]
  },
  {
   "cell_type": "code",
   "execution_count": null,
   "id": "78414612-9412-4ed3-a596-1d8e2152fc2d",
   "metadata": {},
   "outputs": [],
   "source": [
    "zhaw_user_bot.query(\"Please summarise his career for me.\")"
   ]
  },
  {
   "cell_type": "code",
   "execution_count": null,
   "id": "39d80f53-2698-4b99-8b40-0fc1ffc41624",
   "metadata": {},
   "outputs": [],
   "source": []
  }
 ],
 "metadata": {
  "kernelspec": {
   "display_name": "Python 3 (ipykernel)",
   "language": "python",
   "name": "python3"
  },
  "language_info": {
   "codemirror_mode": {
    "name": "ipython",
    "version": 3
   },
   "file_extension": ".py",
   "mimetype": "text/x-python",
   "name": "python",
   "nbconvert_exporter": "python",
   "pygments_lexer": "ipython3",
   "version": "3.11.4"
  }
 },
 "nbformat": 4,
 "nbformat_minor": 5
}
