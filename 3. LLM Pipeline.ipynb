{
 "cells": [
  {
   "cell_type": "markdown",
   "id": "f9d15258-ee86-49ff-ab24-a4f81889bcbb",
   "metadata": {},
   "source": [
    "# 3. LLM Pipeline\n",
    "- based on [LangChain QA](https://python.langchain.com/docs/use_cases/question_answering/) and [LangChain RAG over in-memory documents](https://python.langchain.com/docs/use_cases/question_answering/in_memory_question_answering)\n",
    "- **make sure to place your OpenAI API key in `.env`**\n",
    "\n",
    "### ToDos\n",
    "- use LLM to generate answer to user\n",
    "- retrieve all (relevant) chunks from all retrieved sources\n",
    "    - check for each chunk whether it is relevant for the user query\n",
    "    - Chain --> let LLM summarize/decide for relevance\n",
    "    - use [refine](https://python.langchain.com/docs/modules/chains/document/refine) or [map reduce](https://python.langchain.com/docs/modules/chains/document/map_reduce)\n",
    "- rewrite user query / get additional queries for more relevant retrieval\n",
    "    - see [MultiQueryRetriever](https://python.langchain.com/docs/modules/data_connection/retrievers/MultiQueryRetriever)\n"
   ]
  },
  {
   "cell_type": "markdown",
   "id": "0f929afc-2e9d-40fb-ab8f-52d377b33507",
   "metadata": {},
   "source": [
    "## Prerequisites"
   ]
  },
  {
   "cell_type": "code",
   "execution_count": 1,
   "id": "79607686-dc61-4a4f-8878-c6baa16b2831",
   "metadata": {},
   "outputs": [],
   "source": [
    "import os\n",
    "import openai\n",
    "\n",
    "from dotenv import load_dotenv, find_dotenv\n",
    "_ = load_dotenv(find_dotenv())\n",
    "\n",
    "openai.api_key = os.environ['OPENAI_API_KEY']"
   ]
  },
  {
   "cell_type": "code",
   "execution_count": 2,
   "id": "a1490344-1772-43d2-9e2c-cbb195e0c8b7",
   "metadata": {},
   "outputs": [],
   "source": [
    "from langchain.embeddings.openai import OpenAIEmbeddings\n",
    "from langchain.vectorstores import Chroma\n",
    "\n",
    "embedding_function = OpenAIEmbeddings(show_progress_bar=True)"
   ]
  },
  {
   "cell_type": "markdown",
   "id": "66374868-adee-4330-96a7-1758c11a9f71",
   "metadata": {},
   "source": [
    "### Load database from disk"
   ]
  },
  {
   "cell_type": "code",
   "execution_count": 3,
   "id": "3bef1459-2c2b-4f70-a8b7-2cff4142b923",
   "metadata": {},
   "outputs": [],
   "source": [
    "vectordb = Chroma(persist_directory=\"./chroma_db\", embedding_function=embedding_function)"
   ]
  },
  {
   "cell_type": "code",
   "execution_count": 4,
   "id": "40352f54-d687-497e-90f9-e48dc8565ca1",
   "metadata": {},
   "outputs": [
    {
     "name": "stdout",
     "output_type": "stream",
     "text": [
      "57834\n"
     ]
    }
   ],
   "source": [
    "# Entries in database is equivalent to number of chunks created previously\n",
    "print(vectordb._collection.count())"
   ]
  },
  {
   "cell_type": "markdown",
   "id": "15e0b093-5615-4622-a8e6-f24c9bc0df70",
   "metadata": {},
   "source": [
    "## Query the database"
   ]
  },
  {
   "cell_type": "code",
   "execution_count": null,
   "id": "90c5986a-8ad4-4f6a-8bea-c51e3b8e0321",
   "metadata": {},
   "outputs": [],
   "source": [
    "query = \"wer arbeitet an dezentralen technologien?\""
   ]
  },
  {
   "cell_type": "markdown",
   "id": "fb0d742e-3d65-484a-b971-1e40de13580d",
   "metadata": {},
   "source": [
    "### Using `semantic similarity search`\n",
    "- we can specify `k` - the number of documents (here: chunks) retrieved"
   ]
  },
  {
   "cell_type": "code",
   "execution_count": 20,
   "id": "53ce2db5-cb26-49a5-a0f5-9f663e71328a",
   "metadata": {},
   "outputs": [
    {
     "data": {
      "application/vnd.jupyter.widget-view+json": {
       "model_id": "ba23e397fe6c4c4f8078b8d74d8c77d4",
       "version_major": 2,
       "version_minor": 0
      },
      "text/plain": [
       "  0%|          | 0/1 [00:00<?, ?it/s]"
      ]
     },
     "metadata": {},
     "output_type": "display_data"
    }
   ],
   "source": [
    "results_sss = vectordb.similarity_search(query, k=10)"
   ]
  },
  {
   "cell_type": "code",
   "execution_count": 21,
   "id": "dc3740fc-b3e6-4de5-8fd3-f834ca2ac701",
   "metadata": {},
   "outputs": [
    {
     "name": "stdout",
     "output_type": "stream",
     "text": [
      "Mitarbeiter, TU Darmstadt 1995 - 1997 Systemingenieur, ESG Elektroniksystem- und Logistik-GmbH Mitglied in Netzwerken AeCS Aero-Club der Schweiz Alumni-Netzwerk der RWTH Aachen Alumni-Netzwerk der TU Darmstadt Projekte LINA: Shared Large-scale Infrastructure for the Development and Safe Testing of Autonomous Systems / Stellv. ProjektleiterIn / Projekt laufend Risiken aus Radardaten / Stellv. ProjektleiterIn / Projekt abgeschlossen SORA Planungswerkzeug für die Genehmigung von zivilen\n"
     ]
    }
   ],
   "source": [
    "# Example of first result retrieved\n",
    "print(results_sss[0].page_content)"
   ]
  },
  {
   "cell_type": "code",
   "execution_count": 22,
   "id": "98e7c786-fe29-4959-8080-d7d5dd07f6de",
   "metadata": {},
   "outputs": [
    {
     "name": "stdout",
     "output_type": "stream",
     "text": [
      "4\n",
      "{'suet', 'lehh', 'lieh', 'wele'}\n"
     ]
    }
   ],
   "source": [
    "# Number of different sources retrieved\n",
    "sources = set()\n",
    "for result in results_sss:\n",
    "    sources.add(result.metadata[\"source\"])\n",
    "\n",
    "print(len(sources))\n",
    "print(sources)"
   ]
  },
  {
   "cell_type": "code",
   "execution_count": 23,
   "id": "ce26bc7b-ac4c-4f19-b4a9-0ccceb17f934",
   "metadata": {},
   "outputs": [
    {
     "data": {
      "text/plain": [
       "10"
      ]
     },
     "execution_count": 23,
     "metadata": {},
     "output_type": "execute_result"
    }
   ],
   "source": [
    "len(results_sss)"
   ]
  },
  {
   "cell_type": "markdown",
   "id": "86c47488-b515-470b-a8ef-dd26b639d348",
   "metadata": {},
   "source": [
    "### Using `maximum marginal relevance`\n",
    "- strives to achieve both relevance to the query and diversity among the results"
   ]
  },
  {
   "cell_type": "code",
   "execution_count": 24,
   "id": "13200f3b-1c2f-4c5f-b9e3-5858e8a14347",
   "metadata": {},
   "outputs": [
    {
     "data": {
      "application/vnd.jupyter.widget-view+json": {
       "model_id": "f0e83bdb023d4911a85b90ba182a2c33",
       "version_major": 2,
       "version_minor": 0
      },
      "text/plain": [
       "  0%|          | 0/1 [00:00<?, ?it/s]"
      ]
     },
     "metadata": {},
     "output_type": "display_data"
    }
   ],
   "source": [
    "results_mmr = vectordb.max_marginal_relevance_search(query, k=10)"
   ]
  },
  {
   "cell_type": "code",
   "execution_count": 25,
   "id": "79c4e6dc-aa46-4752-b62b-f4129dc0a049",
   "metadata": {},
   "outputs": [
    {
     "name": "stdout",
     "output_type": "stream",
     "text": [
      "8\n",
      "{'suet', 'lieh', 'wele', 'korb', 'gruj', 'lehh', 'mach', 'bohe'}\n"
     ]
    }
   ],
   "source": [
    "# Number of different sources retrieved\n",
    "sources = set()\n",
    "for result in results_mmr:\n",
    "    sources.add(result.metadata[\"source\"])\n",
    "\n",
    "print(len(sources))\n",
    "print(sources)"
   ]
  },
  {
   "cell_type": "code",
   "execution_count": 26,
   "id": "a1e35739-ad66-458e-93de-8e6b594b5d7d",
   "metadata": {},
   "outputs": [
    {
     "data": {
      "text/plain": [
       "Document(page_content='Strategies Arbeits- und Forschungsschwerpunkte, Spezialkenntnisse Elektrische Energietechnik, Regelungstechnik, Netzdynamik, Integration von dezentralen (erneuerbaren) Energiequellen und Speichern, Weitbereichsüberwachung und -regelung, intelligente Leittechnik für Verteilnetze. Aus- und Fortbildung 1999 – 2000, University of Manchester Institute of Science & Technology (UMIST),Control Systems Centre, Grossbritannien, Postdoc.1998, Delft University of Technology, Holland, Dept. of Information', metadata={'source': 'korb'})"
      ]
     },
     "execution_count": 26,
     "metadata": {},
     "output_type": "execute_result"
    }
   ],
   "source": [
    "results_mmr[2]"
   ]
  },
  {
   "cell_type": "markdown",
   "id": "58f84367-7ccc-43a0-ad33-87472b3d626a",
   "metadata": {},
   "source": [
    "## Building the context for our LLM prompt\n",
    "- we can retrieve all chunks for a retrieved source (`\"shorthandSymbol\"`) and use these as inputs to `refine` our context / prompt"
   ]
  },
  {
   "cell_type": "code",
   "execution_count": null,
   "id": "153936ae-7bf9-456a-8ff8-f52312429257",
   "metadata": {},
   "outputs": [],
   "source": [
    "complete_query = loaded_vectordb.get(where={\"source\": results[0].metadata[\"source\"]})\n",
    "all_chunks_from_single_source = complete_query[\"documents\"]"
   ]
  },
  {
   "cell_type": "code",
   "execution_count": null,
   "id": "489585fe-bd63-49fc-b27f-418b93d8c965",
   "metadata": {},
   "outputs": [],
   "source": [
    "print(len(all_chunks_from_single_source))\n",
    "print(all_chunks_from_single_source[0])"
   ]
  },
  {
   "cell_type": "code",
   "execution_count": null,
   "id": "98e2ab88-85fb-4e1f-b64f-250224df4116",
   "metadata": {},
   "outputs": [],
   "source": []
  }
 ],
 "metadata": {
  "kernelspec": {
   "display_name": "Python 3 (ipykernel)",
   "language": "python",
   "name": "python3"
  },
  "language_info": {
   "codemirror_mode": {
    "name": "ipython",
    "version": 3
   },
   "file_extension": ".py",
   "mimetype": "text/x-python",
   "name": "python",
   "nbconvert_exporter": "python",
   "pygments_lexer": "ipython3",
   "version": "3.11.4"
  }
 },
 "nbformat": 4,
 "nbformat_minor": 5
}
