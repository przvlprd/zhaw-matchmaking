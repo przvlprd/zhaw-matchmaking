{
 "cells": [
  {
   "cell_type": "markdown",
   "id": "f9d15258-ee86-49ff-ab24-a4f81889bcbb",
   "metadata": {},
   "source": [
    "# 3. LLM Pipeline\n",
    "- based on [LangChain QA](https://python.langchain.com/docs/use_cases/question_answering/) and [LangChain RAG over in-memory documents](https://python.langchain.com/docs/use_cases/question_answering/in_memory_question_answering)\n",
    "- **make sure to place your OpenAI API key in `.env`**\n",
    "\n",
    "### ToDos\n",
    "- use LLM to generate answer to user\n",
    "- retrieve all (relevant) chunks from all retrieved sources\n",
    "    - check for each chunk whether it is relevant for the user query\n",
    "    - Chain --> let LLM summarize/decide for relevance\n",
    "    - use [refine](https://python.langchain.com/docs/modules/chains/document/refine) or [map reduce](https://python.langchain.com/docs/modules/chains/document/map_reduce)\n",
    "- rewrite user query / get additional queries for more relevant retrieval\n",
    "    - see [MultiQueryRetriever](https://python.langchain.com/docs/modules/data_connection/retrievers/MultiQueryRetriever)\n"
   ]
  },
  {
   "cell_type": "markdown",
   "id": "0f929afc-2e9d-40fb-ab8f-52d377b33507",
   "metadata": {},
   "source": [
    "## Prerequisites"
   ]
  },
  {
   "cell_type": "code",
   "execution_count": 1,
   "id": "79607686-dc61-4a4f-8878-c6baa16b2831",
   "metadata": {},
   "outputs": [],
   "source": [
    "import os\n",
    "import openai\n",
    "\n",
    "from dotenv import load_dotenv, find_dotenv\n",
    "_ = load_dotenv(find_dotenv())\n",
    "\n",
    "openai.api_key = os.environ['OPENAI_API_KEY']"
   ]
  },
  {
   "cell_type": "code",
   "execution_count": 2,
   "id": "a1490344-1772-43d2-9e2c-cbb195e0c8b7",
   "metadata": {},
   "outputs": [],
   "source": [
    "from langchain.embeddings.openai import OpenAIEmbeddings\n",
    "from langchain.vectorstores import Chroma\n",
    "\n",
    "embedding_function = OpenAIEmbeddings(show_progress_bar=True)"
   ]
  },
  {
   "cell_type": "markdown",
   "id": "66374868-adee-4330-96a7-1758c11a9f71",
   "metadata": {},
   "source": [
    "### Load database from disk"
   ]
  },
  {
   "cell_type": "code",
   "execution_count": 3,
   "id": "3bef1459-2c2b-4f70-a8b7-2cff4142b923",
   "metadata": {},
   "outputs": [],
   "source": [
    "vectordb = Chroma(persist_directory=\"./chroma_db\", embedding_function=embedding_function)"
   ]
  },
  {
   "cell_type": "code",
   "execution_count": 4,
   "id": "40352f54-d687-497e-90f9-e48dc8565ca1",
   "metadata": {},
   "outputs": [
    {
     "name": "stdout",
     "output_type": "stream",
     "text": [
      "57834\n"
     ]
    }
   ],
   "source": [
    "# Entries in database is equivalent to number of chunks created previously\n",
    "print(vectordb._collection.count())"
   ]
  },
  {
   "cell_type": "markdown",
   "id": "15e0b093-5615-4622-a8e6-f24c9bc0df70",
   "metadata": {},
   "source": [
    "## Query the database"
   ]
  },
  {
   "cell_type": "code",
   "execution_count": 5,
   "id": "90c5986a-8ad4-4f6a-8bea-c51e3b8e0321",
   "metadata": {},
   "outputs": [],
   "source": [
    "query = \"wer setzt sich mit augmented reality auseinander?\""
   ]
  },
  {
   "cell_type": "markdown",
   "id": "fb0d742e-3d65-484a-b971-1e40de13580d",
   "metadata": {},
   "source": [
    "### Using `semantic similarity search`\n",
    "- we can specify `k` - the number of documents (here: chunks) retrieved"
   ]
  },
  {
   "cell_type": "code",
   "execution_count": 6,
   "id": "53ce2db5-cb26-49a5-a0f5-9f663e71328a",
   "metadata": {},
   "outputs": [
    {
     "data": {
      "application/vnd.jupyter.widget-view+json": {
       "model_id": "a274373cf3424a34a661ed9b7130c363",
       "version_major": 2,
       "version_minor": 0
      },
      "text/plain": [
       "  0%|          | 0/1 [00:00<?, ?it/s]"
      ]
     },
     "metadata": {},
     "output_type": "display_data"
    }
   ],
   "source": [
    "results_sss = vectordb.similarity_search(query, k=4)"
   ]
  },
  {
   "cell_type": "code",
   "execution_count": 7,
   "id": "dc3740fc-b3e6-4de5-8fd3-f834ca2ac701",
   "metadata": {},
   "outputs": [
    {
     "name": "stdout",
     "output_type": "stream",
     "text": [
      "Augmented Reality, Mixed Reality, Virtual Reality, Information Visualization, Digital Health, Mobile Apps, Audio & Music Processing. Aus- und Fortbildung Dr. oec. publ. UniZHResearch Assistant at Multimedia Lab / Institut für Informatik / Universität Zürich Beruflicher Werdegang Gründer und ehem. Geschäftsführer der Perspectix AG Mitglied in Netzwerken IEEE ACM Schweizerische Gesellschaft für Medizinische Informatik (SGMI) Projekte Mixed Reality im Anlagenbau / ProjektleiterIn / Projekt laufend\n"
     ]
    }
   ],
   "source": [
    "# Example of first result retrieved\n",
    "print(results_sss[0].page_content)"
   ]
  },
  {
   "cell_type": "code",
   "execution_count": 8,
   "id": "4e35ba1e-b0ff-45df-a86b-622b4932510b",
   "metadata": {},
   "outputs": [
    {
     "name": "stdout",
     "output_type": "stream",
     "text": [
      "acke\n"
     ]
    }
   ],
   "source": [
    "print(results_sss[0].metadata[\"source\"])"
   ]
  },
  {
   "cell_type": "code",
   "execution_count": 9,
   "id": "98e7c786-fe29-4959-8080-d7d5dd07f6de",
   "metadata": {},
   "outputs": [
    {
     "name": "stdout",
     "output_type": "stream",
     "text": [
      "3\n",
      "{'weei', 'acke', 'webw'}\n"
     ]
    }
   ],
   "source": [
    "# Number of different sources retrieved\n",
    "sources = set()\n",
    "for result in results_sss:\n",
    "    sources.add(result.metadata[\"source\"])\n",
    "\n",
    "print(len(sources))\n",
    "print(sources)"
   ]
  },
  {
   "cell_type": "code",
   "execution_count": 10,
   "id": "ce26bc7b-ac4c-4f19-b4a9-0ccceb17f934",
   "metadata": {},
   "outputs": [
    {
     "data": {
      "text/plain": [
       "4"
      ]
     },
     "execution_count": 10,
     "metadata": {},
     "output_type": "execute_result"
    }
   ],
   "source": [
    "len(results_sss)"
   ]
  },
  {
   "cell_type": "markdown",
   "id": "86c47488-b515-470b-a8ef-dd26b639d348",
   "metadata": {},
   "source": [
    "### Using `maximum marginal relevance`\n",
    "- strives to achieve both relevance to the query and diversity among the results"
   ]
  },
  {
   "cell_type": "code",
   "execution_count": 11,
   "id": "13200f3b-1c2f-4c5f-b9e3-5858e8a14347",
   "metadata": {},
   "outputs": [
    {
     "data": {
      "application/vnd.jupyter.widget-view+json": {
       "model_id": "a1b926e5bd354c3b9e0c19b4aa04e69c",
       "version_major": 2,
       "version_minor": 0
      },
      "text/plain": [
       "  0%|          | 0/1 [00:00<?, ?it/s]"
      ]
     },
     "metadata": {},
     "output_type": "display_data"
    }
   ],
   "source": [
    "results_mmr = vectordb.max_marginal_relevance_search(query, k=4)"
   ]
  },
  {
   "cell_type": "code",
   "execution_count": 12,
   "id": "79c4e6dc-aa46-4752-b62b-f4129dc0a049",
   "metadata": {},
   "outputs": [
    {
     "name": "stdout",
     "output_type": "stream",
     "text": [
      "4\n",
      "{'shmt', 'mede', 'acke', 'pach'}\n"
     ]
    }
   ],
   "source": [
    "# Number of different sources retrieved\n",
    "sources_mmr = set()\n",
    "for result in results_mmr:\n",
    "    sources_mmr.add(result.metadata[\"source\"])\n",
    "\n",
    "print(len(sources_mmr))\n",
    "print(sources_mmr)"
   ]
  },
  {
   "cell_type": "code",
   "execution_count": 13,
   "id": "a1e35739-ad66-458e-93de-8e6b594b5d7d",
   "metadata": {},
   "outputs": [
    {
     "data": {
      "text/plain": [
       "Document(page_content='von Windenergieanlagen mit Augmented Reality / Teammitglied / Projekt abgeschlossen Wasserregime Sur Chaunt Blais, St. Moritz / Teammitglied / Projekt abgeschlossen Beschneiung Minschuns - Umweltverträglichkeitsbericht (UVB) / Teammitglied / Projekt abgeschlossen Umweltverträglichkeitsbericht (UVB) Umfahrungsstrasse Sta. Maria, Kt. GR / Teammitglied / Projekt abgeschlossen Publikationen Beiträge in wissenschaftlicher Zeitschrift, peer-reviewed Bergauer, Miro; Dembicz, Iwona; Boch, Steffen;', metadata={'source': 'pach'})"
      ]
     },
     "execution_count": 13,
     "metadata": {},
     "output_type": "execute_result"
    }
   ],
   "source": [
    "results_mmr[2]"
   ]
  },
  {
   "cell_type": "markdown",
   "id": "58f84367-7ccc-43a0-ad33-87472b3d626a",
   "metadata": {},
   "source": [
    "## Approach 1: Building the context for our LLM prompt based on chunks\n",
    "- we can retrieve all chunks for a retrieved source (`\"shorthandSymbol\"`) and use these as inputs to `refine` our context / prompt\n",
    "- **TBD**"
   ]
  },
  {
   "cell_type": "code",
   "execution_count": 47,
   "id": "153936ae-7bf9-456a-8ff8-f52312429257",
   "metadata": {},
   "outputs": [],
   "source": [
    "complete_query = vectordb.get(where={\"source\": results_mmr[3].metadata[\"source\"]})\n",
    "all_chunks_from_single_source = complete_query[\"documents\"]"
   ]
  },
  {
   "cell_type": "code",
   "execution_count": null,
   "id": "0107f129-4b05-4d33-8ccf-0ffd1303e961",
   "metadata": {},
   "outputs": [],
   "source": [
    "print(complete_query)"
   ]
  },
  {
   "cell_type": "code",
   "execution_count": 48,
   "id": "489585fe-bd63-49fc-b27f-418b93d8c965",
   "metadata": {},
   "outputs": [
    {
     "name": "stdout",
     "output_type": "stream",
     "text": [
      "13\n",
      "Martin Schuler Martin Schuler ZHAW Angewandte Linguistik Institut für Übersetzen und Dolmetschen Theaterstrasse 15c 8400 Winterthur +41 (0) 58 934 62 21 martin.schuler@zhaw.ch Persönliches Profil Leitungsfunktion Leitung Usability-Labor Tätigkeit an der ZHAW Wiss. Mitarbeiter im Forschungs- und Arbeitsbereich Technikkommunikationaktuelle Lehrtätigkeit an der ZHAWVorlesungen- Usability mit Schwerpunkt Web-Usability- LokalisierungSeminare- Usability-Testing- Projekt in der Technischen\n"
     ]
    }
   ],
   "source": [
    "print(len(all_chunks_from_single_source))\n",
    "print(all_chunks_from_single_source[0])"
   ]
  },
  {
   "cell_type": "code",
   "execution_count": 49,
   "id": "fbad71b4-c099-4049-b5fb-f0e34f125cea",
   "metadata": {},
   "outputs": [],
   "source": [
    "from langchain.schema import Document"
   ]
  },
  {
   "cell_type": "code",
   "execution_count": 50,
   "id": "cfd1fe78-d595-4bd1-81d0-22e539ba9907",
   "metadata": {},
   "outputs": [],
   "source": [
    "chunk_list = []\n",
    "i= 0\n",
    "for chunk in all_chunks_from_single_source:\n",
    "    metadata = {\"source\": i}\n",
    "    chunk_list.append(Document(page_content=chunk, metadata=metadata))\n",
    "    i += 1"
   ]
  },
  {
   "cell_type": "code",
   "execution_count": 51,
   "id": "4491e311-887b-4396-b181-485bb059b5d0",
   "metadata": {},
   "outputs": [
    {
     "data": {
      "text/plain": [
       "13"
      ]
     },
     "execution_count": 51,
     "metadata": {},
     "output_type": "execute_result"
    }
   ],
   "source": [
    "len(chunk_list)"
   ]
  },
  {
   "cell_type": "code",
   "execution_count": 52,
   "id": "f6353325-dc26-45c9-8795-d031a9f5eec6",
   "metadata": {},
   "outputs": [
    {
     "name": "stdout",
     "output_type": "stream",
     "text": [
      "\n",
      "\n",
      "\u001b[1m> Entering new RefineDocumentsChain chain...\u001b[0m\n",
      "\n",
      "\n",
      "\u001b[1m> Entering new LLMChain chain...\u001b[0m\n",
      "Prompt after formatting:\n",
      "\u001b[32;1m\u001b[1;3mContext information is below. \n",
      "---------------------\n",
      "Content: Martin Schuler Martin Schuler ZHAW Angewandte Linguistik Institut für Übersetzen und Dolmetschen Theaterstrasse 15c 8400 Winterthur +41 (0) 58 934 62 21 martin.schuler@zhaw.ch Persönliches Profil Leitungsfunktion Leitung Usability-Labor Tätigkeit an der ZHAW Wiss. Mitarbeiter im Forschungs- und Arbeitsbereich Technikkommunikationaktuelle Lehrtätigkeit an der ZHAWVorlesungen- Usability mit Schwerpunkt Web-Usability- LokalisierungSeminare- Usability-Testing- Projekt in der Technischen\n",
      "Source: 0\n",
      "---------------------\n",
      "Given the context information and not prior knowledge, answer the question: antworte auf deutsch. deine antwort soll nur das enthalten, was zur beantwortung der frage beiträgt. wenn nichts dazu beiträgt, dann lasse deine antwort einfach leer. die frage lautet: warum wurde diese person gefunden mit dieser suchanfrage: wer setzt sich mit augmented reality auseinander?\n",
      "\u001b[0m\n",
      "\n",
      "\u001b[1m> Finished chain.\u001b[0m\n",
      "\n",
      "\n",
      "\u001b[1m> Entering new LLMChain chain...\u001b[0m\n",
      "Prompt after formatting:\n",
      "\u001b[32;1m\u001b[1;3mThe original question is as follows: antworte auf deutsch. deine antwort soll nur das enthalten, was zur beantwortung der frage beiträgt. wenn nichts dazu beiträgt, dann lasse deine antwort einfach leer. die frage lautet: warum wurde diese person gefunden mit dieser suchanfrage: wer setzt sich mit augmented reality auseinander?\n",
      "We have provided an existing answer, including sources: \n",
      "Martin Schuler setzt sich im Forschungs- und Arbeitsbereich Technikkommunikation mit Augmented Reality auseinander.\n",
      "We have the opportunity to refine the existing answer(only if needed) with some more context below.\n",
      "------------\n",
      "Content: und Arbeitsbereich Technikkommunikationaktuelle Lehrtätigkeit an der ZHAWVorlesungen- Usability mit Schwerpunkt Web-Usability- LokalisierungSeminare- Usability-Testing- Projekt in der Technischen Dokumentationausserdem Workshops zu Usability-Testing auf BA- und MA-Stufe sowie Co-Betreuung von BA-Arbeitenwww.zhaw.ch/de/linguistik/forschung/technikkommunikation/usability-labor/ Arbeits- und Forschungsschwerpunkte, Spezialkenntnisse Usability, User Experience (UX), Mensch-Maschine-Interaktion,\n",
      "Source: 1\n",
      "------------\n",
      "Given the new context, refine the original answer to better answer the question. If you do update it, please update the sources as well. If the context isn't useful, return the original answer.\u001b[0m\n",
      "\n",
      "\u001b[1m> Finished chain.\u001b[0m\n",
      "\n",
      "\n",
      "\u001b[1m> Entering new LLMChain chain...\u001b[0m\n",
      "Prompt after formatting:\n",
      "\u001b[32;1m\u001b[1;3mThe original question is as follows: antworte auf deutsch. deine antwort soll nur das enthalten, was zur beantwortung der frage beiträgt. wenn nichts dazu beiträgt, dann lasse deine antwort einfach leer. die frage lautet: warum wurde diese person gefunden mit dieser suchanfrage: wer setzt sich mit augmented reality auseinander?\n",
      "We have provided an existing answer, including sources: \n",
      "Martin Schuler, Professor für Technikkommunikation an der ZHAW, setzt sich im Forschungs- und Arbeitsbereich Technikkommunikation mit Augmented Reality auseinander. Er lehrt Vorlesungen zu Usability, mit Schwerpunkt Web-Usability und Lokalisierung, sowie Seminare zu Usability-Testing und Projekten in der Technischen Dokumentation. Darüber hinaus bietet er Workshops zu Usability-Testing auf BA- und MA-Stufe sowie Co-Betreuung von BA-Arbeiten an. Seine Arbeits- und Forschungsschwerpunkte sind Usability, User Experience (UX), Mensch-Maschine-Interaktion. \n",
      "Source: 1 https://www.zhaw.ch/de/linguistik/forschung/technikkommunikation/usability-labor/\n",
      "We have the opportunity to refine the existing answer(only if needed) with some more context below.\n",
      "------------\n",
      "Content: Arbeits- und Forschungsschwerpunkte, Spezialkenntnisse Usability, User Experience (UX), Mensch-Maschine-Interaktion, Usability-Testing, User-Centered Design, Augmented Reality (AR), Technische Dokumentation Aus- und Fortbildung 2013-2016: MAS in Human Computer Interaction Design (HSR/Uni Basel)2006-2009: BA in Übersetzen mit Vertiefung Technikkommunikation (ZHAW) Mitglied in Netzwerken UX Schweiz Tekom Deutschland Tecom Schweiz SENTeCom Projekte Der erweiterte Dolmetscher - eine Pilotstudie zum\n",
      "Source: 2\n",
      "------------\n",
      "Given the new context, refine the original answer to better answer the question. If you do update it, please update the sources as well. If the context isn't useful, return the original answer.\u001b[0m\n",
      "\n",
      "\u001b[1m> Finished chain.\u001b[0m\n",
      "\n",
      "\n",
      "\u001b[1m> Entering new LLMChain chain...\u001b[0m\n",
      "Prompt after formatting:\n",
      "\u001b[32;1m\u001b[1;3mThe original question is as follows: antworte auf deutsch. deine antwort soll nur das enthalten, was zur beantwortung der frage beiträgt. wenn nichts dazu beiträgt, dann lasse deine antwort einfach leer. die frage lautet: warum wurde diese person gefunden mit dieser suchanfrage: wer setzt sich mit augmented reality auseinander?\n",
      "We have provided an existing answer, including sources: \n",
      "Martin Schuler, Professor für Technikkommunikation an der ZHAW, setzt sich im Forschungs- und Arbeitsbereich Technikkommunikation mit Augmented Reality (AR) auseinander. Er hat Spezialkenntnisse in Usability, User Experience (UX), Mensch-Maschine-Interaktion, Usability-Testing, User-Centered Design und Technische Dokumentation. Er hat einen MAS in Human Computer Interaction Design (HSR/Uni Basel) und einen BA in Übersetzen mit Vertiefung Technikkommunikation (ZHAW). Er ist Mitglied in verschiedenen Netzwerken, darunter UX Schweiz, Tekom Deutschland, Tecom Schweiz und SENTeCom. Er hat verschiedene Projekte auf dem Gebiet der Augmented Reality durchgeführt, darunter \"Der erweiterte Dolmetscher - eine Pilotstudie zum\".\n",
      "Source:1 https://www.zhaw.ch/de/lingu\n",
      "We have the opportunity to refine the existing answer(only if needed) with some more context below.\n",
      "------------\n",
      "Content: BA in Übersetzen mit Vertiefung Technikkommunikation (ZHAW) Mitglied in Netzwerken UX Schweiz Tekom Deutschland Tecom Schweiz SENTeCom Projekte Der erweiterte Dolmetscher - eine Pilotstudie zum Nutzen erweiterter Realität beim Dolmetschen / Teammitglied / Projekt abgeschlossen Barrierefreie ZHAW-Webseiten / Teammitglied / Projekt abgeschlossen Leseeffizienz messen – Bionic Reading + Eyetracking / Teammitglied / Projekt abgeschlossen The blue tool of health apps – die ZHAW-Informationsplattform\n",
      "Source: 3\n",
      "------------\n",
      "Given the new context, refine the original answer to better answer the question. If you do update it, please update the sources as well. If the context isn't useful, return the original answer.\u001b[0m\n",
      "\n",
      "\u001b[1m> Finished chain.\u001b[0m\n",
      "\n",
      "\n",
      "\u001b[1m> Entering new LLMChain chain...\u001b[0m\n",
      "Prompt after formatting:\n",
      "\u001b[32;1m\u001b[1;3mThe original question is as follows: antworte auf deutsch. deine antwort soll nur das enthalten, was zur beantwortung der frage beiträgt. wenn nichts dazu beiträgt, dann lasse deine antwort einfach leer. die frage lautet: warum wurde diese person gefunden mit dieser suchanfrage: wer setzt sich mit augmented reality auseinander?\n",
      "We have provided an existing answer, including sources: \n",
      "Martin Schuler, Professor für Technikkommunikation an der ZHAW, setzt sich im Forschungs- und Arbeitsbereich Technikkommunikation mit Augmented Reality (AR) auseinander. Er hat Spezialkenntnisse in Usability, User Experience (UX), Mensch-Maschine-Interaktion, Usability-Testing, User-Centered Design und Technische Dokumentation. Er hat einen MAS in Human Computer Interaction Design (HSR/Uni Basel) und einen BA in Übersetzen mit Vertiefung Technikkommunikation (ZHAW). Er ist Mitglied in verschiedenen Netzwerken, darunter UX Schweiz, Tekom Deutschland, Tecom Schweiz und SENTeCom. Er hat verschiedene Projekte auf dem Gebiet der Augmented Reality durchgeführt, darunter \"Der erweiterte Dolmetscher - eine Pilotstudie zum Nutzen erweiterter Realität beim Dolmetschen\", \"\n",
      "We have the opportunity to refine the existing answer(only if needed) with some more context below.\n",
      "------------\n",
      "Content: / Teammitglied / Projekt abgeschlossen Leseeffizienz messen – Bionic Reading + Eyetracking / Teammitglied / Projekt abgeschlossen The blue tool of health apps – die ZHAW-Informationsplattform für Gesundheits-Apps / Teammitglied / Projekt abgeschlossen Native Ads erkennen und beurteilen / Teammitglied / Projekt abgeschlossen Die Ergonomie soziotechnischer Systeme in reflektierter Praxis von Lernen und Arbeiten / Teammitglied / Projekt abgeschlossen Cognitive Load in Interpreting and Translation\n",
      "Source: 4\n",
      "------------\n",
      "Given the new context, refine the original answer to better answer the question. If you do update it, please update the sources as well. If the context isn't useful, return the original answer.\u001b[0m\n",
      "\n",
      "\u001b[1m> Finished chain.\u001b[0m\n",
      "\n",
      "\n",
      "\u001b[1m> Entering new LLMChain chain...\u001b[0m\n",
      "Prompt after formatting:\n",
      "\u001b[32;1m\u001b[1;3mThe original question is as follows: antworte auf deutsch. deine antwort soll nur das enthalten, was zur beantwortung der frage beiträgt. wenn nichts dazu beiträgt, dann lasse deine antwort einfach leer. die frage lautet: warum wurde diese person gefunden mit dieser suchanfrage: wer setzt sich mit augmented reality auseinander?\n",
      "We have provided an existing answer, including sources: \n",
      "Martin Schuler, Professor für Technikkommunikation an der ZHAW, setzt sich im Forschungs- und Arbeitsbereich Technikkommunikation mit Augmented Reality (AR) auseinander. Er hat Spezialkenntnisse in Usability, User Experience (UX), Mensch-Maschine-Interaktion, Usability-Testing, User-Centered Design und Technische Dokumentation. Er hat einen MAS in Human Computer Interaction Design (HSR/Uni Basel) und einen BA in Übersetzen mit Vertiefung Technikkommunikation (ZHAW). Er ist Mitglied in verschiedenen Netzwerken, darunter UX Schweiz, Tekom Deutschland, Tecom Schweiz und SENTeCom. Er hat verschiedene Projekte auf dem Gebiet der Augmented Reality durchgeführt, darunter \"Der erweiterte Dolmetscher - eine Pilotstudie zum Nutzen erweiterter Realität beim Dolmetschen\", \"\n",
      "We have the opportunity to refine the existing answer(only if needed) with some more context below.\n",
      "------------\n",
      "Content: / Projekt abgeschlossen Die Ergonomie soziotechnischer Systeme in reflektierter Praxis von Lernen und Arbeiten / Teammitglied / Projekt abgeschlossen Cognitive Load in Interpreting and Translation (CLINT) / Teammitglied / Projekt abgeschlossen Informed Consent in verständlicher Form / Teammitglied / Projekt abgeschlossen Usability-Aspekte einer Software aus dem Bereich Kunststoffspritzgiessen / Stellv. ProjektleiterIn / Projekt abgeschlossen Cognitive and Physical Ergonomics of Translation /\n",
      "Source: 5\n",
      "------------\n",
      "Given the new context, refine the original answer to better answer the question. If you do update it, please update the sources as well. If the context isn't useful, return the original answer.\u001b[0m\n",
      "\n",
      "\u001b[1m> Finished chain.\u001b[0m\n",
      "\n",
      "\n",
      "\u001b[1m> Entering new LLMChain chain...\u001b[0m\n",
      "Prompt after formatting:\n",
      "\u001b[32;1m\u001b[1;3mThe original question is as follows: antworte auf deutsch. deine antwort soll nur das enthalten, was zur beantwortung der frage beiträgt. wenn nichts dazu beiträgt, dann lasse deine antwort einfach leer. die frage lautet: warum wurde diese person gefunden mit dieser suchanfrage: wer setzt sich mit augmented reality auseinander?\n",
      "We have provided an existing answer, including sources: \n",
      "Martin Schuler, Professor für Technikkommunikation an der ZHAW, setzt sich im Forschungs- und Arbeitsbereich Technikkommunikation mit Augmented Reality (AR) auseinander. Er hat Spezialkenntnisse in Usability, User Experience (UX), Mensch-Maschine-Interaktion, Usability-Testing, User-Centered Design, Technische Dokumentation und die Ergonomie soziotechnischer Systeme in reflektierter Praxis von Lernen und Arbeiten. Er hat einen MAS in Human Computer Interaction Design (HSR/Uni Basel) und einen BA in Übersetzen mit Vertiefung Technikkommunikation (ZHAW). Er ist Mitglied in verschiedenen Netzwerken, darunter UX Schweiz, Tekom Deutschland, Tecom Schweiz und SENTeCom. Er hat verschiedene Projekte auf dem Gebiet der Augmented Reality durchgeführt, darunter \"Der erweiterte\n",
      "We have the opportunity to refine the existing answer(only if needed) with some more context below.\n",
      "------------\n",
      "Content: / Projekt abgeschlossen Usability-Aspekte einer Software aus dem Bereich Kunststoffspritzgiessen / Stellv. ProjektleiterIn / Projekt abgeschlossen Cognitive and Physical Ergonomics of Translation / Teammitglied / Projekt abgeschlossen Optimierung der Gebrauchstauglichkeit eines neuen Softwareproduktes für die Segmentierung im Rahmen der Therapieplanung in der Strahlentherapie (Projekt mitfinanziert durch die KTI) / Teammitglied / Projekt abgeschlossen Begleitung der Entwicklung einer\n",
      "Source: 6\n",
      "------------\n",
      "Given the new context, refine the original answer to better answer the question. If you do update it, please update the sources as well. If the context isn't useful, return the original answer.\u001b[0m\n",
      "\n",
      "\u001b[1m> Finished chain.\u001b[0m\n",
      "\n",
      "\n",
      "\u001b[1m> Entering new LLMChain chain...\u001b[0m\n",
      "Prompt after formatting:\n",
      "\u001b[32;1m\u001b[1;3mThe original question is as follows: antworte auf deutsch. deine antwort soll nur das enthalten, was zur beantwortung der frage beiträgt. wenn nichts dazu beiträgt, dann lasse deine antwort einfach leer. die frage lautet: warum wurde diese person gefunden mit dieser suchanfrage: wer setzt sich mit augmented reality auseinander?\n",
      "We have provided an existing answer, including sources: \n",
      "Martin Schuler, Professor für Technikkommunikation an der ZHAW, setzt sich im Forschungs- und Arbeitsbereich Technikkommunikation mit Augmented Reality (AR) auseinander. Er hat Spezialkenntnisse in Usability, User Experience (UX), Mensch-Maschine-Interaktion, Usability-Testing, User-Centered Design, Technische Dokumentation und die Ergonomie soziotechnischer Systeme in reflektierter Praxis von Lernen und Arbeiten. Er hat einen MAS in Human Computer Interaction Design (HSR/Uni Basel) und einen BA in Übersetzen mit Vertiefung Technikkommunikation (ZHAW). Er ist Mitglied in verschiedenen Netzwerken, darunter UX Schweiz, Tekom Deutschland, Tecom Schweiz und SENTeCom. Er hat zudem verschiedene Projekte auf dem Gebiet der Augmented Reality durchgeführt, darunter die Begle\n",
      "We have the opportunity to refine the existing answer(only if needed) with some more context below.\n",
      "------------\n",
      "Content: für die Segmentierung im Rahmen der Therapieplanung in der Strahlentherapie (Projekt mitfinanziert durch die KTI) / Teammitglied / Projekt abgeschlossen Begleitung der Entwicklung einer Online-Stellenbörse im Hinblick auf Usability / Teammitglied / Projekt abgeschlossen Usability-Evaluation einer führenden Software im Bereich elektrochemische Analytik / Teammitglied / Projekt abgeschlossen Publikationen Konferenzbeiträge, peer-reviewed Fuhrmann, Birgit; Schuler, Martin, 2022. Besser Lesen am\n",
      "Source: 7\n",
      "------------\n",
      "Given the new context, refine the original answer to better answer the question. If you do update it, please update the sources as well. If the context isn't useful, return the original answer.\u001b[0m\n",
      "\n",
      "\u001b[1m> Finished chain.\u001b[0m\n",
      "\n",
      "\n",
      "\u001b[1m> Entering new LLMChain chain...\u001b[0m\n",
      "Prompt after formatting:\n",
      "\u001b[32;1m\u001b[1;3mThe original question is as follows: antworte auf deutsch. deine antwort soll nur das enthalten, was zur beantwortung der frage beiträgt. wenn nichts dazu beiträgt, dann lasse deine antwort einfach leer. die frage lautet: warum wurde diese person gefunden mit dieser suchanfrage: wer setzt sich mit augmented reality auseinander?\n",
      "We have provided an existing answer, including sources:  \n",
      "Martin Schuler, Professor für Technikkommunikation an der ZHAW, setzt sich im Forschungs- und Arbeitsbereich Technikkommunikation mit Augmented Reality (AR) auseinander. Er hat Spezialkenntnisse in Usability, User Experience (UX), Mensch-Maschine-Interaktion, Usability-Testing, User-Centered Design, Technische Dokumentation und die Ergonomie soziotechnischer Systeme in reflektierter Praxis von Lernen und Arbeiten. Er hat einen MAS in Human Computer Interaction Design (HSR/Uni Basel) und einen BA in Übersetzen mit Vertiefung Technikkommunikation (ZHAW). Er ist Mitglied in verschiedenen Netzwerken, darunter UX Schweiz, Tekom Deutschland, Tecom Schweiz und SENTeCom. Er hat zudem verschiedene Projekte auf dem Gebiet der Augmented Reality durchgeführt, darunter die Beg\n",
      "We have the opportunity to refine the existing answer(only if needed) with some more context below.\n",
      "------------\n",
      "Content: führenden Software im Bereich elektrochemische Analytik / Teammitglied / Projekt abgeschlossen Publikationen Konferenzbeiträge, peer-reviewed Fuhrmann, Birgit; Schuler, Martin, 2022. Besser Lesen am Bildschirm? : Nutzerbeobachtung mittels Eyetracking und Interviews geben Einblicke in das Online-Lesen [Paper]. In: Ludewig, Elske; Jackstädt, Thomas; Hinze, Jana, Hrsg., Usability Professionals 22. Mensch und Computer (MuC), Darmstadt, Deutschland, 4.-7. September 2022. Bonn: Gesellschaft für\n",
      "Source: 8\n",
      "------------\n",
      "Given the new context, refine the original answer to better answer the question. If you do update it, please update the sources as well. If the context isn't useful, return the original answer.\u001b[0m\n",
      "\n",
      "\u001b[1m> Finished chain.\u001b[0m\n",
      "\n",
      "\n",
      "\u001b[1m> Entering new LLMChain chain...\u001b[0m\n",
      "Prompt after formatting:\n",
      "\u001b[32;1m\u001b[1;3mThe original question is as follows: antworte auf deutsch. deine antwort soll nur das enthalten, was zur beantwortung der frage beiträgt. wenn nichts dazu beiträgt, dann lasse deine antwort einfach leer. die frage lautet: warum wurde diese person gefunden mit dieser suchanfrage: wer setzt sich mit augmented reality auseinander?\n",
      "We have provided an existing answer, including sources: \n",
      "Martin Schuler, Professor für Technikkommunikation an der ZHAW, setzt sich im Forschungs- und Arbeitsbereich Technikkommunikation mit Augmented Reality (AR) auseinander. Er ist Spezialist auf dem Gebiet der Usability, User Experience (UX), Mensch-Maschine-Interaktion, Usability-Testing, User-Centered Design, Technische Dokumentation und Ergonomie soziotechnischer Systeme in reflektierter Praxis von Lernen und Arbeiten. Er hat einen MAS in Human Computer Interaktion Design (HSR/Uni Basel) und einen BA in Übersetzen mit Vertiefung Technikkommunikation (ZHAW). Er ist Mitglied in verschiedenen Netzwerken, darunter UX Schweiz, Tekom Deutschland, Tecom Schweiz und SENTeCom. Er hat zudem mehrere Projekte auf dem Gebiet der Augmented Reality durchgeführt, darun\n",
      "We have the opportunity to refine the existing answer(only if needed) with some more context below.\n",
      "------------\n",
      "Content: [Paper]. In: Ludewig, Elske; Jackstädt, Thomas; Hinze, Jana, Hrsg., Usability Professionals 22. Mensch und Computer (MuC), Darmstadt, Deutschland, 4.-7. September 2022. Bonn: Gesellschaft für Informatik e.V.. Verfügbar unter: https://doi.org/10.18420/muc 2022-up-423 Weitere Publikationen Keel, Guido; Dingerkus, Filip; Schuler, Martin, 2021. Native Ads erkennen und beurteilen. Winterthur: ZHAW Zürcher Hochschule für Angewandte Wissenschaften. Verfügbar unter: https://doi.org/10.21256/zhaw-23651\n",
      "Source: 9\n",
      "------------\n",
      "Given the new context, refine the original answer to better answer the question. If you do update it, please update the sources as well. If the context isn't useful, return the original answer.\u001b[0m\n",
      "\n",
      "\u001b[1m> Finished chain.\u001b[0m\n",
      "\n",
      "\n",
      "\u001b[1m> Entering new LLMChain chain...\u001b[0m\n",
      "Prompt after formatting:\n",
      "\u001b[32;1m\u001b[1;3mThe original question is as follows: antworte auf deutsch. deine antwort soll nur das enthalten, was zur beantwortung der frage beiträgt. wenn nichts dazu beiträgt, dann lasse deine antwort einfach leer. die frage lautet: warum wurde diese person gefunden mit dieser suchanfrage: wer setzt sich mit augmented reality auseinander?\n",
      "We have provided an existing answer, including sources: \n",
      "Martin Schuler, Professor für Technikkommunikation an der ZHAW, setzt sich im Forschungs- und Arbeitsbereich Technikkommunikation mit Augmented Reality (AR) auseinander. Er ist Spezialist auf dem Gebiet der Usability, User Experience (UX), Mensch-Maschine-Interaktion, Usability-Testing, User-Centered Design, Technische Dokumentation und Ergonomie soziotechnischer Systeme in reflektierter Praxis von Lernen und Arbeiten. Er hat einen MAS in Human Computer Interaktion Design (HSR/Uni Basel) und einen BA in Übersetzen mit Vertiefung Technikkommunikation (ZHAW). Er ist Mitglied in verschiedenen Netzwerken, darunter UX Schweiz, Tekom Deutschland, Tecom Schweiz und SENTeCom. Er hat zudem mehrere Projekte auf dem Gebiet der Augmented Reality durchgeführt, z.B\n",
      "We have the opportunity to refine the existing answer(only if needed) with some more context below.\n",
      "------------\n",
      "Content: Dingerkus, Filip; Schuler, Martin, 2021. Native Ads erkennen und beurteilen. Winterthur: ZHAW Zürcher Hochschule für Angewandte Wissenschaften. Verfügbar unter: https://doi.org/10.21256/zhaw-23651 Fuhrmann, Birgit; Kleinberger, Ulla; Meier, Olivia; Schuler, Martin, 2021. Text, Technik, Technikkommunikation – ein Zusammenspiel mit Zukunft. Language matters - Blog für Sprache und Kommunikation. Verfügbar unter:\n",
      "Source: 10\n",
      "------------\n",
      "Given the new context, refine the original answer to better answer the question. If you do update it, please update the sources as well. If the context isn't useful, return the original answer.\u001b[0m\n",
      "\n",
      "\u001b[1m> Finished chain.\u001b[0m\n",
      "\n",
      "\n",
      "\u001b[1m> Entering new LLMChain chain...\u001b[0m\n",
      "Prompt after formatting:\n",
      "\u001b[32;1m\u001b[1;3mThe original question is as follows: antworte auf deutsch. deine antwort soll nur das enthalten, was zur beantwortung der frage beiträgt. wenn nichts dazu beiträgt, dann lasse deine antwort einfach leer. die frage lautet: warum wurde diese person gefunden mit dieser suchanfrage: wer setzt sich mit augmented reality auseinander?\n",
      "We have provided an existing answer, including sources: \n",
      "Martin Schuler, Professor für Technikkommunikation an der ZHAW, setzt sich im Forschungs- und Arbeitsbereich Technikkommunikation mit Augmented Reality (AR) auseinander. Er ist Spezialist auf dem Gebiet der Usability, User Experience (UX), Mensch-Maschine-Interaktion, Usability-Testing, User-Centered Design, Technische Dokumentation und Ergonomie soziotechnischer Systeme in reflektierter Praxis von Lernen und Arbeiten. Er hat einen MAS in Human Computer Interaktion Design (HSR/Uni Basel) und einen BA in Übersetzen mit Vertiefung Technikkommunikation (ZHAW). Er ist Mitglied in verschiedenen Netzwerken, darunter UX Schweiz, Tekom Deutschland, Tecom Schweiz und SENTeCom. Er hat zudem mehrere Projekte auf dem Gebiet der Augmented Reality durchgeführt, z.B\n",
      "We have the opportunity to refine the existing answer(only if needed) with some more context below.\n",
      "------------\n",
      "Content: Kleinberger, Ulla; Meier, Olivia; Schuler, Martin, 2021. Text, Technik, Technikkommunikation – ein Zusammenspiel mit Zukunft. Language matters - Blog für Sprache und Kommunikation. Verfügbar unter: https://blog.zhaw.ch/languagematters/2021/04/01/text-technik-technikkommunikation/?utm_campaign=l-social-media&utm_source=twitter&utm_medium=organic&utm_content=technikkommunikation-textanalyse Mündliche Konferenzbeiträge und Abstracts Gieshoff, Anne Catherine; Schuler, Martin, 2022. The augmented\n",
      "Source: 11\n",
      "------------\n",
      "Given the new context, refine the original answer to better answer the question. If you do update it, please update the sources as well. If the context isn't useful, return the original answer.\u001b[0m\n",
      "\n",
      "\u001b[1m> Finished chain.\u001b[0m\n",
      "\n",
      "\n",
      "\u001b[1m> Entering new LLMChain chain...\u001b[0m\n",
      "Prompt after formatting:\n",
      "\u001b[32;1m\u001b[1;3mThe original question is as follows: antworte auf deutsch. deine antwort soll nur das enthalten, was zur beantwortung der frage beiträgt. wenn nichts dazu beiträgt, dann lasse deine antwort einfach leer. die frage lautet: warum wurde diese person gefunden mit dieser suchanfrage: wer setzt sich mit augmented reality auseinander?\n",
      "We have provided an existing answer, including sources:  \n",
      "Martin Schuler, Professor für Technikkommunikation an der ZHAW, setzt sich im Forschungs- und Arbeitsbereich Technikkommunikation mit Augmented Reality (AR) auseinander. Er ist Spezialist auf dem Gebiet der Usability, User Experience (UX), Mensch-Maschine-Interaktion, Usability-Testing, User-Centered Design, Technische Dokumentation und Ergonomie soziotechnischer Systeme in reflektierter Praxis von Lernen und Arbeiten. Er hat einen MAS in Human Computer Interaktion Design (HSR/Uni Basel) und einen BA in Übersetzen mit Vertiefung Technikkommunikation (ZHAW). Er ist Mitglied in verschiedenen Netzwerken, darunter UX Schweiz, Tekom Deutschland, Tecom Schweiz und SENTeCom. Er hat zudem mehrere Projekte auf dem Gebiet der Augmented Reality durchgeführt, wie\n",
      "We have the opportunity to refine the existing answer(only if needed) with some more context below.\n",
      "------------\n",
      "Content: Mündliche Konferenzbeiträge und Abstracts Gieshoff, Anne Catherine; Schuler, Martin, 2022. The augmented interpreter : a pilot study on the use of augmented reality in interpreting. In: 3rd HKBU International Conference on Interpreting : Interpreting and Technology, Hong-Kong (online), 7-9 December 2022.\n",
      "Source: 12\n",
      "------------\n",
      "Given the new context, refine the original answer to better answer the question. If you do update it, please update the sources as well. If the context isn't useful, return the original answer.\u001b[0m\n",
      "\n",
      "\u001b[1m> Finished chain.\u001b[0m\n",
      "\n",
      "\u001b[1m> Finished chain.\u001b[0m\n",
      "\n",
      "Martin Schuler, Professor für Technikkommunikation an der ZHAW, setzt sich im Forschungs- und Arbeitsbereich Technikkommunikation mit Augmented Reality (AR) auseinander. Er ist Spezialist auf dem Gebiet der Usability, User Experience (UX), Mensch-Maschine-Interaktion, Usability-Testing, User-Centered Design, Technische Dokumentation und Ergonomie soziotechnischer Systeme in reflektierter Praxis von Lernen und Arbeiten. Er hat einen MAS in Human Computer Interaktion Design (HSR/Uni Basel) und einen BA in Übersetzen mit Vertiefung Technikkommunikation (ZHAW). Er ist Mitglied in verschiedenen Netzwerken, darunter UX Schweiz, Tekom Deutschland, Tecom Schweiz und SENTeCom. Er hat zudem mehrere Projekte auf dem Gebiet der Augmented Reality durchgeführt, wie die\n"
     ]
    }
   ],
   "source": [
    "from langchain.chains.qa_with_sources.loading import load_qa_with_sources_chain\n",
    "from langchain.llms import OpenAI\n",
    "\n",
    "# Load the refine QA chain\n",
    "chain = load_qa_with_sources_chain(OpenAI(), chain_type=\"refine\", verbose=True)\n",
    "\n",
    "# Define the input documents and the question\n",
    "docs = chunk_list\n",
    "question = f\"antworte auf deutsch. deine antwort soll nur das enthalten, was zur beantwortung der frage beiträgt. wenn nichts dazu beiträgt, dann lasse deine antwort einfach leer. die frage lautet: warum wurde diese person gefunden mit dieser suchanfrage: {query}\"\n",
    "\n",
    "# Run the refine QA chain\n",
    "result = chain({\"input_documents\": docs, \"question\": question}, return_only_outputs=True)\n",
    "\n",
    "# Retrieve the output answer\n",
    "answer = result[\"output_text\"]\n",
    "\n",
    "print(answer)"
   ]
  },
  {
   "cell_type": "markdown",
   "id": "1b2292af-e486-412b-9afc-c834f4a5d640",
   "metadata": {
    "jp-MarkdownHeadingCollapsed": true
   },
   "source": [
    "### Use our database as a retriever for LangChain\n",
    "- see [Agent with retrieval tool](https://python.langchain.com/docs/use_cases/question_answering/conversational_retrieval_agents)"
   ]
  },
  {
   "cell_type": "code",
   "execution_count": 5,
   "id": "0fe6bc85-8c46-45e7-affd-91c105fe2b97",
   "metadata": {},
   "outputs": [],
   "source": [
    "retriever = vectordb.as_retriever()"
   ]
  },
  {
   "cell_type": "markdown",
   "id": "1f03a4aa-68f7-49c9-ba0d-da9a927648ba",
   "metadata": {},
   "source": [
    "**Retriever tool**"
   ]
  },
  {
   "cell_type": "code",
   "execution_count": 7,
   "id": "492f45d7-f0e0-4662-bbf7-d0b418142de1",
   "metadata": {},
   "outputs": [],
   "source": [
    "from langchain.agents.agent_toolkits import create_retriever_tool"
   ]
  },
  {
   "cell_type": "code",
   "execution_count": 9,
   "id": "7c9811f2-6662-4c33-b6ec-29a9fedc2658",
   "metadata": {},
   "outputs": [],
   "source": [
    "tool = create_retriever_tool(\n",
    "    retriever, \n",
    "    \"search_zhaw_employees\",\n",
    "    \"Searches the user profiles of the ZHAW employees.\"\n",
    ")\n",
    "tools = [tool]"
   ]
  },
  {
   "cell_type": "markdown",
   "id": "bd3bf9db-6a8a-4e2f-82fc-925e7e6a697c",
   "metadata": {},
   "source": [
    "result[\"output\"]**Agent constructor**"
   ]
  },
  {
   "cell_type": "code",
   "execution_count": 10,
   "id": "81e4c39d-ec2a-4392-a7c5-5a21d0a33e60",
   "metadata": {},
   "outputs": [],
   "source": [
    "from langchain.agents.agent_toolkits import create_conversational_retrieval_agent"
   ]
  },
  {
   "cell_type": "code",
   "execution_count": 11,
   "id": "7f055ba9-da4a-4efc-861e-a49235ff244d",
   "metadata": {},
   "outputs": [],
   "source": [
    "from langchain.chat_models import ChatOpenAI\n",
    "llm = ChatOpenAI(temperature = 0)"
   ]
  },
  {
   "cell_type": "code",
   "execution_count": 12,
   "id": "575de95a-5b31-4226-91d0-861c151e1def",
   "metadata": {},
   "outputs": [],
   "source": [
    "agent_executor = create_conversational_retrieval_agent(llm, tools, verbose=True)"
   ]
  },
  {
   "cell_type": "code",
   "execution_count": 13,
   "id": "256dfeab-d532-4749-a7c2-ea90004a6320",
   "metadata": {},
   "outputs": [
    {
     "name": "stdout",
     "output_type": "stream",
     "text": [
      "\n",
      "\n",
      "\u001b[1m> Entering new AgentExecutor chain...\u001b[0m\n",
      "\u001b[32;1m\u001b[1;3mHello Bob! How can I assist you today?\u001b[0m\n",
      "\n",
      "\u001b[1m> Finished chain.\u001b[0m\n"
     ]
    }
   ],
   "source": [
    "result = agent_executor({\"input\": \"hi, im bob\"})"
   ]
  },
  {
   "cell_type": "code",
   "execution_count": 14,
   "id": "e119ad8c-e9f9-4445-b207-638fe0291332",
   "metadata": {},
   "outputs": [
    {
     "data": {
      "text/plain": [
       "'Hello Bob! How can I assist you today?'"
      ]
     },
     "execution_count": 14,
     "metadata": {},
     "output_type": "execute_result"
    }
   ],
   "source": [
    "result[\"output\"]"
   ]
  },
  {
   "cell_type": "code",
   "execution_count": 15,
   "id": "e3b19707-06ad-427c-b110-aac6dc82412e",
   "metadata": {},
   "outputs": [
    {
     "name": "stdout",
     "output_type": "stream",
     "text": [
      "\n",
      "\n",
      "\u001b[1m> Entering new AgentExecutor chain...\u001b[0m\n",
      "\u001b[32;1m\u001b[1;3mYour name is Bob.\u001b[0m\n",
      "\n",
      "\u001b[1m> Finished chain.\u001b[0m\n"
     ]
    }
   ],
   "source": [
    "result = agent_executor({\"input\": \"whats my name?\"})"
   ]
  },
  {
   "cell_type": "code",
   "execution_count": 16,
   "id": "106d07f7-e9d3-4c47-8038-df4d96e71396",
   "metadata": {},
   "outputs": [
    {
     "name": "stdout",
     "output_type": "stream",
     "text": [
      "\n",
      "\n",
      "\u001b[1m> Entering new AgentExecutor chain...\u001b[0m\n",
      "\u001b[32;1m\u001b[1;3m\n",
      "Invoking: `search_zhaw_employees` with `{'query': 'augmented reality'}`\n",
      "\n",
      "\n",
      "\u001b[0m"
     ]
    },
    {
     "data": {
      "application/vnd.jupyter.widget-view+json": {
       "model_id": "5d0b6d12737848ba9bf766d5afbd11b3",
       "version_major": 2,
       "version_minor": 0
      },
      "text/plain": [
       "  0%|          | 0/1 [00:00<?, ?it/s]"
      ]
     },
     "metadata": {},
     "output_type": "display_data"
    },
    {
     "name": "stdout",
     "output_type": "stream",
     "text": [
      "\u001b[36;1m\u001b[1;3m[Document(page_content='Augmented reality for the visually impaired : navigation aid and scene semantics for indoor use cases [Paper]. In: 2022 IEEE 12th International Conference on Consumer Electronics (ICCE-Berlin). 12th IEEE International Conference on Consumer Technology (ICCE-Berlin), Berlin, Germany, 2-6 September 2022. IEEE. Verfügbar unter: https://doi.org/10.1109/ICCE-Berlin 56473.2022.9937109', metadata={'source': 'fath'}), Document(page_content='Augmented Reality, Mixed Reality, Virtual Reality, Information Visualization, Digital Health, Mobile Apps, Audio & Music Processing. Aus- und Fortbildung Dr. oec. publ. UniZHResearch Assistant at Multimedia Lab / Institut für Informatik / Universität Zürich Beruflicher Werdegang Gründer und ehem. Geschäftsführer der Perspectix AG Mitglied in Netzwerken IEEE ACM Schweizerische Gesellschaft für Medizinische Informatik (SGMI) Projekte Mixed Reality im Anlagenbau / ProjektleiterIn / Projekt laufend', metadata={'source': 'acke'}), Document(page_content=\"the influence of augmented reality on purchasing intention in e-commerce [Paper]. In: Proceedings of the 55th Hawaii International Conference on System Sciences. 55th Hawaii International Conference on System Sciences (HICSS), Virtual, 3-7 January 2022. Honolulu: University of Hawai'i at Manoa. S. 4933-4942. Proceedings of the 55th Hawaii International Conference on System Sciences. Verfügbar unter: https://doi.org/10.24251/HICSS.2022.601 Beurer-Züllig, Bettina; Klaas, Michael, 2020. The social\", metadata={'source': 'beur'}), Document(page_content=\"the influence of augmented reality on purchasing intention in e-commerce [Paper]. In: Proceedings of the 55th Hawaii International Conference on System Sciences. 55th Hawaii International Conference on System Sciences (HICSS), Virtual, 3-7 January 2022. Honolulu: University of Hawai'i at Manoa. S. 4933-4942. Proceedings of the 55th Hawaii International Conference on System Sciences. Verfügbar unter: https://doi.org/10.24251/HICSS.2022.601 Beurer-Züllig, Bettina; Klaas, Michael, 2020. The social\", metadata={'source': 'beur'})]\u001b[0m\u001b[32;1m\u001b[1;3mYes, there are people at ZHAW who work on augmented reality. Here are a few examples:\n",
      "\n",
      "1. One of the papers titled \"Augmented reality for the visually impaired: navigation aid and scene semantics for indoor use cases\" was presented at the 2022 IEEE 12th International Conference on Consumer Electronics (ICCE-Berlin) by an author affiliated with ZHAW. You can find more information about the paper [here](https://doi.org/10.1109/ICCE-Berlin56473.2022.9937109).\n",
      "\n",
      "2. Another person at ZHAW is involved in projects related to mixed reality in the field of plant engineering.\n",
      "\n",
      "Please note that these are just a few examples, and there may be more individuals at ZHAW working on augmented reality.\u001b[0m\n",
      "\n",
      "\u001b[1m> Finished chain.\u001b[0m\n"
     ]
    }
   ],
   "source": [
    "result = agent_executor({\"input\": \"is there someone at ZHAW who works on augmented reality?\"})"
   ]
  },
  {
   "cell_type": "code",
   "execution_count": 18,
   "id": "0a452aa2-f879-48bb-8dee-624f3832dce8",
   "metadata": {},
   "outputs": [
    {
     "name": "stdout",
     "output_type": "stream",
     "text": [
      "\n",
      "\n",
      "\u001b[1m> Entering new AgentExecutor chain...\u001b[0m\n",
      "\u001b[32;1m\u001b[1;3mI apologize, but I don't have access to specific information about the individuals working on augmented reality at ZHAW. The search results only provided limited details about their research papers and projects. If you are interested in learning more about the people working on augmented reality at ZHAW, I recommend visiting the ZHAW website or contacting the university directly for more information.\u001b[0m\n",
      "\n",
      "\u001b[1m> Finished chain.\u001b[0m\n"
     ]
    }
   ],
   "source": [
    "result = agent_executor({\"input\": \"can you tell me more about the people working on augmented reality at ZHAW?\"})"
   ]
  },
  {
   "cell_type": "markdown",
   "id": "141fb6d7-1020-4a41-8a58-81bb640b564c",
   "metadata": {
    "jp-MarkdownHeadingCollapsed": true
   },
   "source": [
    "## Approach 2: Adding all user profiles to a custom chatbot with `embedchain`\n",
    "- see in *\"4. Chat with a profile.ipynb\"* on more background"
   ]
  },
  {
   "cell_type": "code",
   "execution_count": 14,
   "id": "daaca404-497d-4bee-ac2b-2894d32be2f6",
   "metadata": {},
   "outputs": [],
   "source": [
    "from embedchain import App\n",
    "zhaw_user_bot = App()"
   ]
  },
  {
   "cell_type": "markdown",
   "id": "e4329266-9207-4bd8-8acc-8e783517378e",
   "metadata": {},
   "source": [
    "#### Add the source profile to the chatbot (based on `\"shorthandSymbol\"`)"
   ]
  },
  {
   "cell_type": "code",
   "execution_count": 15,
   "id": "843f0aba-8d02-4895-aa60-37392b363b10",
   "metadata": {},
   "outputs": [
    {
     "name": "stdout",
     "output_type": "stream",
     "text": [
      "Inserting batches from 0 to 20 in chromadb\n",
      "Successfully saved https://www.zhaw.ch/de/ueber-uns/person/pach (DataType.WEB_PAGE). New chunks count: 20\n",
      "Inserting batches from 0 to 16 in chromadb\n",
      "Successfully saved https://www.zhaw.ch/de/ueber-uns/person/acke (DataType.WEB_PAGE). New chunks count: 16\n",
      "Inserting batches from 0 to 9 in chromadb\n",
      "Successfully saved https://www.zhaw.ch/de/ueber-uns/person/shmt (DataType.WEB_PAGE). New chunks count: 9\n",
      "Inserting batches from 0 to 47 in chromadb\n",
      "Successfully saved https://www.zhaw.ch/de/ueber-uns/person/mede (DataType.WEB_PAGE). New chunks count: 47\n"
     ]
    }
   ],
   "source": [
    "for source in sources_mmr:\n",
    "    zhaw_user_bot.add(f\"https://www.zhaw.ch/de/ueber-uns/person/{source}\")"
   ]
  },
  {
   "cell_type": "markdown",
   "id": "c3fa6257-1968-43d5-89a8-e504e3f925b2",
   "metadata": {},
   "source": [
    "#### Query the chatbot"
   ]
  },
  {
   "cell_type": "code",
   "execution_count": 23,
   "id": "8d9fd210-59b0-4685-b760-1d106ebeef07",
   "metadata": {},
   "outputs": [
    {
     "data": {
      "text/plain": [
       "'Mr. Ackermann has worked on Human-Centered Computing at ZHAW Zürcher Hochschule für Angewandte Wissenschaften.'"
      ]
     },
     "execution_count": 23,
     "metadata": {},
     "output_type": "execute_result"
    }
   ],
   "source": [
    "zhaw_user_bot.query(\"What did Mr. Ackermann work on so far?\")"
   ]
  },
  {
   "cell_type": "markdown",
   "id": "a51b4cba-3b23-4a51-b384-36bf6b72aac4",
   "metadata": {},
   "source": [
    "**Caveats**\n",
    "\n",
    "- approach probably bloated and unnecessary, but proof of concept\n",
    "- prompt needs to be changed to German\n",
    "- retrieval does not work as intended\n",
    "- no follow-up questions / no memory used**"
   ]
  }
 ],
 "metadata": {
  "kernelspec": {
   "display_name": "Python 3 (ipykernel)",
   "language": "python",
   "name": "python3"
  },
  "language_info": {
   "codemirror_mode": {
    "name": "ipython",
    "version": 3
   },
   "file_extension": ".py",
   "mimetype": "text/x-python",
   "name": "python",
   "nbconvert_exporter": "python",
   "pygments_lexer": "ipython3",
   "version": "3.11.4"
  }
 },
 "nbformat": 4,
 "nbformat_minor": 5
}
